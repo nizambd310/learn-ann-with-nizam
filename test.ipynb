{
 "cells": [
  {
   "cell_type": "code",
   "execution_count": 29,
   "metadata": {},
   "outputs": [
    {
     "ename": "AttributeError",
     "evalue": "module 'seaborn' has no attribute 'subplots'",
     "output_type": "error",
     "traceback": [
      "\u001b[1;31m---------------------------------------------------------------------------\u001b[0m",
      "\u001b[1;31mAttributeError\u001b[0m                            Traceback (most recent call last)",
      "Cell \u001b[1;32mIn[29], line 6\u001b[0m\n\u001b[0;32m      3\u001b[0m x \u001b[39m=\u001b[39m [\u001b[39m1\u001b[39m,\u001b[39m2\u001b[39m,\u001b[39m3\u001b[39m,\u001b[39m4\u001b[39m,\u001b[39m5\u001b[39m]\n\u001b[0;32m      4\u001b[0m y \u001b[39m=\u001b[39m [\u001b[39m1\u001b[39m,\u001b[39m4\u001b[39m,\u001b[39m9\u001b[39m,\u001b[39m16\u001b[39m,\u001b[39m25\u001b[39m]\n\u001b[1;32m----> 6\u001b[0m fig, ax \u001b[39m=\u001b[39m sns\u001b[39m.\u001b[39;49msubplots(\u001b[39m2\u001b[39m,\u001b[39m3\u001b[39m)\n\u001b[0;32m      7\u001b[0m ax\u001b[39m.\u001b[39mflat[\u001b[39m0\u001b[39m]\u001b[39m.\u001b[39mplot(x,y)\n",
      "\u001b[1;31mAttributeError\u001b[0m: module 'seaborn' has no attribute 'subplots'"
     ]
    }
   ],
   "source": [
    "import matplotlib.pyplot as plt\n",
    "import seaborn as sns\n",
    "x = [1,2,3,4,5]\n",
    "y = [1,4,9,16,25]\n",
    "\n",
    "fig, ax = sns.subplots(2,3)\n",
    "ax.flat[0].plot(x,y)\n"
   ]
  }
 ],
 "metadata": {
  "kernelspec": {
   "display_name": "Python 3",
   "language": "python",
   "name": "python3"
  },
  "language_info": {
   "codemirror_mode": {
    "name": "ipython",
    "version": 3
   },
   "file_extension": ".py",
   "mimetype": "text/x-python",
   "name": "python",
   "nbconvert_exporter": "python",
   "pygments_lexer": "ipython3",
   "version": "3.10.8"
  },
  "orig_nbformat": 4
 },
 "nbformat": 4,
 "nbformat_minor": 2
}
